{
  "nbformat": 4,
  "nbformat_minor": 0,
  "metadata": {
    "colab": {
      "provenance": [],
      "authorship_tag": "ABX9TyNp/o7kmuBDRVykX6Gut82e",
      "include_colab_link": true
    },
    "kernelspec": {
      "name": "python3",
      "display_name": "Python 3"
    },
    "language_info": {
      "name": "python"
    }
  },
  "cells": [
    {
      "cell_type": "markdown",
      "metadata": {
        "id": "view-in-github",
        "colab_type": "text"
      },
      "source": [
        "<a href=\"https://colab.research.google.com/github/Katschuk/python/blob/main/aula_1.ipynb\" target=\"_parent\"><img src=\"https://colab.research.google.com/assets/colab-badge.svg\" alt=\"Open In Colab\"/></a>"
      ]
    },
    {
      "cell_type": "code",
      "execution_count": null,
      "metadata": {
        "id": "xHQ1b1Mwxibh"
      },
      "outputs": [],
      "source": []
    },
    {
      "cell_type": "markdown",
      "source": [
        "#**aula 1** 🛫 ❄ 👽"
      ],
      "metadata": {
        "id": "hWqRU9sVxnb7"
      }
    },
    {
      "cell_type": "markdown",
      "source": [
        "#**aula 2** ✈ 🎱 💯"
      ],
      "metadata": {
        "id": "VAnXE3mlzmCY"
      }
    },
    {
      "cell_type": "markdown",
      "source": [
        "#**aula 3** ⚗ 🚀 🔧"
      ],
      "metadata": {
        "id": "WcW83N16z_4A"
      }
    },
    {
      "cell_type": "markdown",
      "source": [
        "#**aula 4** 🎮 🐢 💙"
      ],
      "metadata": {
        "id": "yfIZ-ec40WHB"
      }
    },
    {
      "cell_type": "code",
      "source": [
        "P = int(input(\"Digite a posição da porta P (0 ou 1): \"))\n",
        "R = int(input(\"Digite a posição da porta R (0 ou 1): \"))\n",
        "if P == 0:\n",
        "   print(\"C\")\n",
        "elif R == 1:\n",
        "    print(\"A\")\n",
        "else:\n",
        "    print(\"B\")\n",
        "\n"
      ],
      "metadata": {
        "colab": {
          "base_uri": "https://localhost:8080/"
        },
        "id": "GaoWm9Cp2Yd8",
        "outputId": "0cd46afc-01d2-498e-b40e-37d78477d01f"
      },
      "execution_count": null,
      "outputs": [
        {
          "output_type": "stream",
          "name": "stdout",
          "text": [
            "Digite a posição da porta P (0 ou 1): 1\n",
            "Digite a posição da porta R (0 ou 1): 0\n",
            "B\n"
          ]
        }
      ]
    },
    {
      "cell_type": "markdown",
      "source": [
        "#**aula 5** ⚓ 💛 ⚙ tabuada"
      ],
      "metadata": {
        "id": "IlmebO_Q6wTk"
      }
    },
    {
      "cell_type": "code",
      "source": [
        "def tabuada(numero):\n",
        "    for contador in range(1, 11):  # Gera números de 1 a 10\n",
        "        print(f\"{numero} x {contador} = {numero * contador}\")\n",
        "numero = int(input(\"Digite um número para ver sua tabuada: \"))\n",
        "tabuada(numero)"
      ],
      "metadata": {
        "colab": {
          "base_uri": "https://localhost:8080/"
        },
        "id": "Mxzb0ZMA74p0",
        "outputId": "0a28625a-6ad9-421e-8ce3-119756bd711d"
      },
      "execution_count": null,
      "outputs": [
        {
          "output_type": "stream",
          "name": "stdout",
          "text": [
            "Digite um número para ver sua tabuada: 8\n",
            "8 x 1 = 8\n",
            "8 x 2 = 16\n",
            "8 x 3 = 24\n",
            "8 x 4 = 32\n",
            "8 x 5 = 40\n",
            "8 x 6 = 48\n",
            "8 x 7 = 56\n",
            "8 x 8 = 64\n",
            "8 x 9 = 72\n",
            "8 x 10 = 80\n"
          ]
        }
      ]
    },
    {
      "cell_type": "markdown",
      "source": [
        "#**aula 6imc**"
      ],
      "metadata": {
        "id": "44K_qFHx85A1"
      }
    },
    {
      "cell_type": "code",
      "source": [
        "peso = float(input(\"Digite seu peso (em kg): \"))\n",
        "altura = float(input(\"Digite sua altura (em metros): \"))\n",
        "imc = peso / (altura ** 2)\n",
        "    print(f\"\\nSeu IMC é: {imc:.2f}\")\n",
        "if imc < 18.5:\n",
        "    print(\"Você está abaixo do peso.\")\n",
        "elif 18.5 <= imc < 25:\n",
        "    print(\"Você está no peso ideal.\")\n",
        "elif 25 <= imc < 30:\n",
        "    print(\"Você está com sobrepeso.\")\n",
        "else:\n",
        "    print(\"Você está acima do peso.\")"
      ],
      "metadata": {
        "colab": {
          "base_uri": "https://localhost:8080/",
          "height": 106
        },
        "id": "44CfDxis9CIT",
        "outputId": "b194f04d-6bcd-497f-b2d9-a3fd9c165480"
      },
      "execution_count": null,
      "outputs": [
        {
          "output_type": "error",
          "ename": "IndentationError",
          "evalue": "unexpected indent (ipython-input-869987609.py, line 4)",
          "traceback": [
            "\u001b[0;36m  File \u001b[0;32m\"/tmp/ipython-input-869987609.py\"\u001b[0;36m, line \u001b[0;32m4\u001b[0m\n\u001b[0;31m    print(f\"\\nSeu IMC é: {imc:.2f}\")\u001b[0m\n\u001b[0m    ^\u001b[0m\n\u001b[0;31mIndentationError\u001b[0m\u001b[0;31m:\u001b[0m unexpected indent\n"
          ]
        }
      ]
    },
    {
      "cell_type": "markdown",
      "source": [
        "#**Aula 7** 💣 🚜 🪵"
      ],
      "metadata": {
        "id": "ACzge2GW2klp"
      }
    },
    {
      "cell_type": "code",
      "source": [
        "print(\"Sou seu assitente virtual, como posso ajudar? \\n \")\n",
        "nome = input(\"digite seu nome: \")\n",
        "print(\"Olá,  \" + nome +  \". Qual é sua dúvida hoje?\" )\n",
        "\n"
      ],
      "metadata": {
        "colab": {
          "base_uri": "https://localhost:8080/"
        },
        "id": "W0jOq_SL3EVs",
        "outputId": "ea3ca4ee-a635-4e65-fe46-cebccb587c9d"
      },
      "execution_count": null,
      "outputs": [
        {
          "output_type": "stream",
          "name": "stdout",
          "text": [
            "Sou seu assitente virtual, como posso ajudar? \n",
            " \n",
            "digite seu nome: Matheus\n",
            "Olá,  Matheus. Qual é sua dúvida hoje?\n"
          ]
        }
      ]
    },
    {
      "cell_type": "code",
      "source": [
        "print(\"Sou seu assitente virtual, como posso ajudar? \\n \")\n",
        "nome = input(\"digite seu nome: \")\n",
        "print(f\"Olá,  {nome}. Qual é sua dúvida hoje?\" )\n",
        "resposta = input(\"Qual o assunto que deseja tratar: Matemática, Python, JavaScript\").lower()\n",
        "print(f\"Que bom , {nome}, vamos falar sobre {resposta}\")"
      ],
      "metadata": {
        "colab": {
          "base_uri": "https://localhost:8080/"
        },
        "id": "CdvfrgjP-XSB",
        "outputId": "55405ac1-1393-48a3-c7c8-b89d2b977373"
      },
      "execution_count": null,
      "outputs": [
        {
          "output_type": "stream",
          "name": "stdout",
          "text": [
            "Sou seu assitente virtual, como posso ajudar? \n",
            " \n",
            "digite seu nome: Matheus\n",
            "Olá,  Matheus. Qual é sua dúvida hoje?\n",
            "Qual o assunto que deseja tratar: Matemática, Python, JavaScriptpython\n",
            "Que bom , Matheus, vamos falar sobre python\n"
          ]
        }
      ]
    }
  ]
}